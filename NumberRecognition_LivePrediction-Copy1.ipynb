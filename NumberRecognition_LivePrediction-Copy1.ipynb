{
 "cells": [
  {
   "cell_type": "markdown",
   "id": "5c27f413-6fc7-4e97-9186-c2d353b8c494",
   "metadata": {},
   "source": [
    "## importing "
   ]
  },
  {
   "cell_type": "code",
   "execution_count": 2,
   "id": "41e9932c-02b5-451e-abfd-a51524fd7251",
   "metadata": {},
   "outputs": [],
   "source": [
    "import numpy as np\n",
    "import cv2\n",
    "import matplotlib.pyplot as plt\n",
    "from keras.datasets import mnist\n",
    "from tensorflow.keras.models import load_model\n",
    "from sklearn.preprocessing import OneHotEncoder\n",
    "from keras.utils import to_categorical\n",
    "from tensorflow.keras import backend as K\n",
    "from tensorflow.keras.preprocessing.image import ImageDataGenerator\n",
    "from tensorflow.keras.callbacks import EarlyStopping, ReduceLROnPlateau, ModelCheckpoint\n",
    "from tensorflow.keras.layers import Conv2D, Dropout, Flatten, MaxPooling2D, Dense, BatchNormalization, MaxPool2D\n",
    "from tensorflow.keras.optimizers.legacy import SGD, Adam, Adamax\n",
    "import tensorflow as tf\n",
    "import seaborn as sns\n",
    "\n",
    "%matplotlib inline"
   ]
  },
  {
   "cell_type": "code",
   "execution_count": 3,
   "id": "c8d67bca-1429-4829-9fb3-624f1d34a3eb",
   "metadata": {},
   "outputs": [],
   "source": [
    "(x_train, y_train), (x_test, y_test) = mnist.load_data()"
   ]
  },
  {
   "cell_type": "code",
   "execution_count": 4,
   "id": "ac9d5a58-5507-42b4-8067-417bf10e1b30",
   "metadata": {},
   "outputs": [
    {
     "name": "stdout",
     "output_type": "stream",
     "text": [
      "(60000, 28, 28)\n",
      "3\n",
      "(10000, 28, 28)\n"
     ]
    }
   ],
   "source": [
    "print(x_train.shape)\n",
    "print(y_train[10])\n",
    "print(x_test.shape)"
   ]
  },
  {
   "cell_type": "code",
   "execution_count": 5,
   "id": "2de27923-56ad-47aa-84f6-5c5301a92ced",
   "metadata": {},
   "outputs": [
    {
     "data": {
      "text/plain": [
       "<matplotlib.image.AxesImage at 0x309a99cc0>"
      ]
     },
     "execution_count": 5,
     "metadata": {},
     "output_type": "execute_result"
    },
    {
     "data": {
      "image/png": "[encoded data removed]",
      "text/plain": [
       "<Figure size 640x480 with 1 Axes>"
      ]
     },
     "metadata": {},
     "output_type": "display_data"
    }
   ],
   "source": [
    "plt.imshow(x_train[10], cmap='gray')"
   ]
  },
  {
   "cell_type": "markdown",
   "id": "32166fff-a424-4e36-b4eb-33efe1970b0f",
   "metadata": {},
   "source": [
    "### Preprocessing\n",
    "\n",
    "<p>Reshaping </p>"
   ]
  },
  {
   "cell_type": "code",
   "execution_count": 6,
   "id": "d5e538f3-fd0d-400b-b554-56a19eb1ad13",
   "metadata": {},
   "outputs": [],
   "source": [
    "x_train = x_train.reshape(-1, 28, 28, 1)  # making it into 28x28 with 1 channel for grayscale and feeding it into the ConvModel\n",
    "x_test = x_test.reshape(-1, 28, 28, 1)\n",
    "\n",
    "x_train = x_train.astype('float32')\n",
    "x_test = x_test.astype('float32')\n"
   ]
  },
  {
   "cell_type": "code",
   "execution_count": 7,
   "id": "0b0b33f0-2120-4b1c-a466-d97a78c6ef07",
   "metadata": {},
   "outputs": [
    {
     "name": "stdout",
     "output_type": "stream",
     "text": [
      "(60000, 28, 28, 1)\n"
     ]
    }
   ],
   "source": [
    "print(x_train.shape)\n",
    "\n",
    "x_train = x_train/255 # normalizing the image since grayscale images are just 2D images in the range of 0 to 255\n",
    "x_test = x_test/255  # so thats why we are bringing the range in between 0 and 1 which is done by dividing the matrix by 255"
   ]
  },
  {
   "cell_type": "code",
   "execution_count": 8,
   "id": "4398cbf8-a588-42ab-a6c8-1d557436aeca",
   "metadata": {},
   "outputs": [
    {
     "data": {
      "text/plain": [
       "dtype('float32')"
      ]
     },
     "execution_count": 8,
     "metadata": {},
     "output_type": "execute_result"
    }
   ],
   "source": [
    "x_train.dtype"
   ]
  },
  {
   "cell_type": "code",
   "execution_count": 13,
   "id": "3a55d699-d9b7-4b17-af17-a19f44ea4d78",
   "metadata": {},
   "outputs": [],
   "source": [
    "num_classes = y_train.shape[1]"
   ]
  },
  {
   "cell_type": "markdown",
   "id": "e0443e67-9e57-40fb-af65-6313a22f2854",
   "metadata": {},
   "source": [
    "### Categorical data needs to be converted into numerical format using OneHotEncoding"
   ]
  },
  {
   "cell_type": "code",
   "execution_count": 10,
   "id": "ef35800e-8937-4d7c-a778-9aaed3a7ae42",
   "metadata": {},
   "outputs": [
    {
     "data": {
      "text/plain": [
       "array([5, 0, 4, ..., 5, 6, 8], dtype=uint8)"
      ]
     },
     "execution_count": 10,
     "metadata": {},
     "output_type": "execute_result"
    }
   ],
   "source": [
    "y_train"
   ]
  },
  {
   "cell_type": "code",
   "execution_count": 11,
   "id": "5a48af91-ee5a-46d8-ba82-794842e5fae5",
   "metadata": {},
   "outputs": [
    {
     "data": {
      "text/plain": [
       "5"
      ]
     },
     "execution_count": 11,
     "metadata": {},
     "output_type": "execute_result"
    }
   ],
   "source": [
    "y_train[0]"
   ]
  },
  {
   "cell_type": "code",
   "execution_count": 12,
   "id": "70ff4298-fbee-458c-8f67-133db1b26005",
   "metadata": {},
   "outputs": [],
   "source": [
    "y_train = to_categorical(y_train)\n",
    "y_test = to_categorical(y_test)"
   ]
  },
  {
   "cell_type": "code",
   "execution_count": 23,
   "id": "def1ba3b-5a6a-47bb-a645-1f7fe774ae0f",
   "metadata": {},
   "outputs": [
    {
     "data": {
      "text/plain": [
       "array([[0., 1.],\n",
       "       [1., 0.],\n",
       "       [1., 0.],\n",
       "       [1., 0.],\n",
       "       [1., 0.],\n",
       "       [1., 0.],\n",
       "       [1., 0.],\n",
       "       [1., 0.],\n",
       "       [1., 0.],\n",
       "       [1., 0.]], dtype=float32)"
      ]
     },
     "execution_count": 23,
     "metadata": {},
     "output_type": "execute_result"
    }
   ],
   "source": [
    "y_train[1]"
   ]
  },
  {
   "cell_type": "code",
   "execution_count": 24,
   "id": "f4c01ca1-e66c-49e1-8d36-6d7cff22a3d3",
   "metadata": {},
   "outputs": [],
   "source": [
    "# y_train = y_train.reshape(-1, 1)\n",
    "# onehot_encoder = OneHotEncoder()\n",
    "# y_train_encoded = onehot_encoder.fit_transform(y_train).toarray()\n",
    "# y_train_encoded.astype('float32')\n",
    "# print(y_train_encoded[:10])\n",
    "# print(y_train_encoded.dtype)"
   ]
  },
  {
   "cell_type": "code",
   "execution_count": 25,
   "id": "dbd87ff2-4a2a-4e88-ada6-411a674dd1c2",
   "metadata": {},
   "outputs": [],
   "source": [
    "# y_test = y_test.reshape(-1, 1)\n",
    "# y_test_encoded = onehot_encoder.fit_transform(y_test).toarray()\n",
    "# y_test_encoded.astype('float32')\n",
    "# print(y_test_encoded[0])\n",
    "# print(y_test_encoded.dtype)"
   ]
  },
  {
   "cell_type": "code",
   "execution_count": 180,
   "id": "ac628831-0212-4c00-96ae-58d105c43ba7",
   "metadata": {},
   "outputs": [],
   "source": [
    "model = tf.keras.models.Sequential()\n",
    "model.add(Conv2D(\n",
    "    32,\n",
    "    kernel_size=(3, 3),\n",
    "    activation='relu',\n",
    "    padding='SAME',\n",
    "    input_shape = (28, 28, 1),\n",
    "))\n",
    "\n",
    "model.add(MaxPooling2D(\n",
    "    pool_size=(2, 2),\n",
    "))\n",
    "\n",
    "model.add(Conv2D(\n",
    "    64,\n",
    "    kernel_size=(3, 3),\n",
    "    activation='relu',\n",
    "    padding='SAME',\n",
    "))\n",
    "\n",
    "model.add(MaxPooling2D(\n",
    "    pool_size=(2, 2),\n",
    "))\n",
    "\n",
    "model.add(Dropout(0.25))\n",
    "\n",
    "model.add(Flatten())\n",
    "\n",
    "model.add(Dense(\n",
    "    128, \n",
    "    activation='relu',\n",
    "))\n",
    "\n",
    "model.add(Dropout(0.5))\n",
    "\n",
    "model.add(Dense(\n",
    "    10,\n",
    "    activation='softmax',  # using softmax since that works the best with multilabel classification and yields the highest probability \n",
    "))\n",
    "\n",
    "model.compile(loss='categorical_crossentropy', metrics=['accuracy'], optimizer=SGD(learning_rate=0.01))"
   ]
  },
  {
   "cell_type": "code",
   "execution_count": 181,
   "id": "b9645bf6-2adc-4f6e-883d-b169db7991c8",
   "metadata": {},
   "outputs": [
    {
     "name": "stdout",
     "output_type": "stream",
     "text": [
      "Model: \"sequential_12\"\n",
      "_________________________________________________________________\n",
      " Layer (type)                Output Shape              Param #   \n",
      "=================================================================\n",
      " conv2d_21 (Conv2D)          (None, 28, 28, 32)        320       \n",
      "                                                                 \n",
      " max_pooling2d_18 (MaxPooli  (None, 14, 14, 32)        0         \n",
      " ng2D)                                                           \n",
      "                                                                 \n",
      " conv2d_22 (Conv2D)          (None, 14, 14, 64)        18496     \n",
      "                                                                 \n",
      " max_pooling2d_19 (MaxPooli  (None, 7, 7, 64)          0         \n",
      " ng2D)                                                           \n",
      "                                                                 \n",
      " dropout_13 (Dropout)        (None, 7, 7, 64)          0         \n",
      "                                                                 \n",
      " flatten_6 (Flatten)         (None, 3136)              0         \n",
      "                                                                 \n",
      " dense_12 (Dense)            (None, 128)               401536    \n",
      "                                                                 \n",
      " dropout_14 (Dropout)        (None, 128)               0         \n",
      "                                                                 \n",
      " dense_13 (Dense)            (None, 10)                1290      \n",
      "                                                                 \n",
      "=================================================================\n",
      "Total params: 421642 (1.61 MB)\n",
      "Trainable params: 421642 (1.61 MB)\n",
      "Non-trainable params: 0 (0.00 Byte)\n",
      "_________________________________________________________________\n"
     ]
    }
   ],
   "source": [
    "model.summary()"
   ]
  },
  {
   "cell_type": "code",
   "execution_count": 182,
   "id": "4fa629dd-4728-40c5-8030-d73e59b1c2fc",
   "metadata": {},
   "outputs": [
    {
     "name": "stdout",
     "output_type": "stream",
     "text": [
      "Epoch 1/20\n",
      "1875/1875 [==============================] - 22s 11ms/step - loss: 0.6432 - accuracy: 0.7921 - val_loss: 0.1904 - val_accuracy: 0.9444\n",
      "Epoch 2/20\n",
      "1875/1875 [==============================] - 23s 12ms/step - loss: 0.2124 - accuracy: 0.9357 - val_loss: 0.1235 - val_accuracy: 0.9605\n",
      "Epoch 3/20\n",
      "1875/1875 [==============================] - 24s 13ms/step - loss: 0.1570 - accuracy: 0.9524 - val_loss: 0.0914 - val_accuracy: 0.9722\n",
      "Epoch 4/20\n",
      "1875/1875 [==============================] - 24s 13ms/step - loss: 0.1381 - accuracy: 0.9595 - val_loss: 0.0869 - val_accuracy: 0.9733\n",
      "Epoch 5/20\n",
      "1875/1875 [==============================] - 22s 11ms/step - loss: 0.1284 - accuracy: 0.9625 - val_loss: 0.0753 - val_accuracy: 0.9750\n",
      "Epoch 6/20\n",
      "1875/1875 [==============================] - 21s 11ms/step - loss: 0.1240 - accuracy: 0.9635 - val_loss: 0.0812 - val_accuracy: 0.9751\n",
      "Epoch 7/20\n",
      "1875/1875 [==============================] - 21s 11ms/step - loss: 0.1231 - accuracy: 0.9654 - val_loss: 0.0703 - val_accuracy: 0.9775\n",
      "Epoch 8/20\n",
      "1875/1875 [==============================] - 22s 12ms/step - loss: 0.1274 - accuracy: 0.9647 - val_loss: 0.0686 - val_accuracy: 0.9792\n",
      "Epoch 9/20\n",
      "1875/1875 [==============================] - 25s 14ms/step - loss: 0.1409 - accuracy: 0.9628 - val_loss: 0.0787 - val_accuracy: 0.9757\n",
      "Epoch 10/20\n",
      "1875/1875 [==============================] - 22s 12ms/step - loss: 0.1635 - accuracy: 0.9605 - val_loss: 0.0803 - val_accuracy: 0.9773\n",
      "Epoch 11/20\n",
      "1875/1875 [==============================] - 21s 11ms/step - loss: 0.1924 - accuracy: 0.9573 - val_loss: 0.0933 - val_accuracy: 0.9763\n",
      "Epoch 12/20\n",
      "1875/1875 [==============================] - 21s 11ms/step - loss: 0.2629 - accuracy: 0.9522 - val_loss: 0.1283 - val_accuracy: 0.9738\n",
      "Epoch 13/20\n",
      "1875/1875 [==============================] - 22s 12ms/step - loss: 0.4794 - accuracy: 0.9423 - val_loss: 0.2705 - val_accuracy: 0.9674\n",
      "Epoch 14/20\n",
      "1875/1875 [==============================] - 23s 12ms/step - loss: 1.0464 - accuracy: 0.9354 - val_loss: 0.5272 - val_accuracy: 0.9710\n",
      "Epoch 15/20\n",
      "1875/1875 [==============================] - 24s 13ms/step - loss: 3.3434 - accuracy: 0.9260 - val_loss: 3.4009 - val_accuracy: 0.9481\n",
      "Epoch 16/20\n",
      "1875/1875 [==============================] - 23s 12ms/step - loss: 38.6713 - accuracy: 0.9111 - val_loss: 43.5006 - val_accuracy: 0.9620\n",
      "Epoch 17/20\n",
      "1875/1875 [==============================] - 23s 12ms/step - loss: 201.3235 - accuracy: 0.4549 - val_loss: 4.3458 - val_accuracy: 0.7445\n",
      "Epoch 18/20\n",
      "1875/1875 [==============================] - 23s 12ms/step - loss: 2530.2864 - accuracy: 0.6415 - val_loss: 229.0066 - val_accuracy: 0.0982\n",
      "Epoch 19/20\n",
      "1875/1875 [==============================] - 23s 12ms/step - loss: 360.3119 - accuracy: 0.0978 - val_loss: 220.4601 - val_accuracy: 0.0958\n",
      "Epoch 20/20\n",
      "1875/1875 [==============================] - 23s 12ms/step - loss: 312.9288 - accuracy: 0.1000 - val_loss: 220.2952 - val_accuracy: 0.0958\n"
     ]
    }
   ],
   "source": [
    "batch_size = 32\n",
    "history = model.fit(\n",
    "    x_train,\n",
    "    y_train,\n",
    "    batch_size=batch_size,\n",
    "    epochs=20,\n",
    "    verbose=1,\n",
    "    validation_data=(x_test, y_test)\n",
    ")"
   ]
  },
  {
   "cell_type": "code",
   "execution_count": 49,
   "id": "d7841be9-b398-4399-b92e-790bd0075c8a",
   "metadata": {},
   "outputs": [],
   "source": [
    "score = model.evaluate(x_test, y_test, verbose=0)"
   ]
  },
  {
   "cell_type": "code",
   "execution_count": 50,
   "id": "db4b053a-d61f-4827-9bbc-2d6d1af72de9",
   "metadata": {},
   "outputs": [
    {
     "name": "stdout",
     "output_type": "stream",
     "text": [
      "Test Loss:  5.19%\n",
      "Test Accuracy:  99.67%\n"
     ]
    }
   ],
   "source": [
    "print(\"Test Loss: \", str(round(score[0]*100, 2)) + str('%'))\n",
    "print(\"Test Accuracy: \", str(round(score[1]*100, 2)) + str('%'))"
   ]
  },
  {
   "cell_type": "code",
   "execution_count": 51,
   "id": "64359ea6-f39a-4053-b3c1-05746538367a",
   "metadata": {},
   "outputs": [],
   "source": [
    "def draw_learning_curve(history, keys=['f1', 'loss']):\n",
    "    plt.figure(figsize=(20, 8))\n",
    "    for i, key in enumerate(keys):\n",
    "        plt.subplot(1, 2, i + 1)\n",
    "        sns.lineplot(x = history.epoch, y = history.history[key])\n",
    "        sns.lineplot(x = history.epoch, y = history.history['val_' + key])\n",
    "        plt.title('learning curve')\n",
    "        plt.ylabel(key.title())\n",
    "        plt.xlabel('epoch')\n",
    "        plt.legend(['train', 'test'], loc='best')\n",
    "    plt.show()"
   ]
  },
  {
   "cell_type": "code",
   "execution_count": 52,
   "id": "8938f1ae-acae-4464-9f58-b463f2515ad2",
   "metadata": {},
   "outputs": [
    {
     "ename": "NameError",
     "evalue": "name 'history' is not defined",
     "output_type": "error",
     "traceback": [
      "\u001b[0;31m---------------------------------------------------------------------------\u001b[0m",
      "\u001b[0;31mNameError\u001b[0m                                 Traceback (most recent call last)",
      "Cell \u001b[0;32mIn[52], line 1\u001b[0m\n\u001b[0;32m----> 1\u001b[0m plotting_data_history \u001b[38;5;241m=\u001b[39m \u001b[43mhistory\u001b[49m\u001b[38;5;241m.\u001b[39mhistory\n\u001b[1;32m      3\u001b[0m test_loss \u001b[38;5;241m=\u001b[39m plotting_data_history[\u001b[38;5;124m'\u001b[39m\u001b[38;5;124mval_loss\u001b[39m\u001b[38;5;124m'\u001b[39m]\n\u001b[1;32m      4\u001b[0m training_loss\u001b[38;5;241m=\u001b[39m plotting_data_history[\u001b[38;5;124m'\u001b[39m\u001b[38;5;124mloss\u001b[39m\u001b[38;5;124m'\u001b[39m]\n",
      "\u001b[0;31mNameError\u001b[0m: name 'history' is not defined"
     ]
    }
   ],
   "source": [
    "plotting_data_history = history.history\n",
    "\n",
    "test_loss = plotting_data_history['val_loss']\n",
    "training_loss= plotting_data_history['loss']\n",
    "test_accuracy = plotting_data_history['val_accuracy']\n",
    "training_accuracy = plotting_data_history['accuracy']\n",
    "\n",
    "epochs = range(1, len(test_loss) + 1)"
   ]
  },
  {
   "cell_type": "code",
   "execution_count": 53,
   "id": "9ade65bc-74e9-4b24-9270-39967f47ff3d",
   "metadata": {},
   "outputs": [
    {
     "ename": "NameError",
     "evalue": "name 'epochs' is not defined",
     "output_type": "error",
     "traceback": [
      "\u001b[0;31m---------------------------------------------------------------------------\u001b[0m",
      "\u001b[0;31mNameError\u001b[0m                                 Traceback (most recent call last)",
      "Cell \u001b[0;32mIn[53], line 1\u001b[0m\n\u001b[0;32m----> 1\u001b[0m plt\u001b[38;5;241m.\u001b[39mplot(\u001b[43mepochs\u001b[49m, test_loss, marker\u001b[38;5;241m=\u001b[39m\u001b[38;5;124m'\u001b[39m\u001b[38;5;124mX\u001b[39m\u001b[38;5;124m'\u001b[39m, label\u001b[38;5;241m=\u001b[39m\u001b[38;5;124m'\u001b[39m\u001b[38;5;124mtest_loss\u001b[39m\u001b[38;5;124m'\u001b[39m)\n\u001b[1;32m      2\u001b[0m plt\u001b[38;5;241m.\u001b[39mplot(epochs, training_loss, marker\u001b[38;5;241m=\u001b[39m\u001b[38;5;124m'\u001b[39m\u001b[38;5;124mX\u001b[39m\u001b[38;5;124m'\u001b[39m, label\u001b[38;5;241m=\u001b[39m\u001b[38;5;124m'\u001b[39m\u001b[38;5;124mtraining_loss\u001b[39m\u001b[38;5;124m'\u001b[39m)\n\u001b[1;32m      3\u001b[0m plt\u001b[38;5;241m.\u001b[39mlegend()\n",
      "\u001b[0;31mNameError\u001b[0m: name 'epochs' is not defined"
     ]
    }
   ],
   "source": [
    "plt.plot(epochs, test_loss, marker='X', label='test_loss')\n",
    "plt.plot(epochs, training_loss, marker='X', label='training_loss')\n",
    "plt.legend()\n",
    "plt.show()"
   ]
  },
  {
   "cell_type": "code",
   "execution_count": 54,
   "id": "a2d4a598-82fc-490e-b9d5-86c5735d95d7",
   "metadata": {},
   "outputs": [
    {
     "ename": "NameError",
     "evalue": "name 'epochs' is not defined",
     "output_type": "error",
     "traceback": [
      "\u001b[0;31m---------------------------------------------------------------------------\u001b[0m",
      "\u001b[0;31mNameError\u001b[0m                                 Traceback (most recent call last)",
      "Cell \u001b[0;32mIn[54], line 1\u001b[0m\n\u001b[0;32m----> 1\u001b[0m plt\u001b[38;5;241m.\u001b[39mplot(\u001b[43mepochs\u001b[49m, test_accuracy, marker\u001b[38;5;241m=\u001b[39m\u001b[38;5;124m'\u001b[39m\u001b[38;5;124mX\u001b[39m\u001b[38;5;124m'\u001b[39m, label\u001b[38;5;241m=\u001b[39m\u001b[38;5;124m'\u001b[39m\u001b[38;5;124mtest_accuracy\u001b[39m\u001b[38;5;124m'\u001b[39m)\n\u001b[1;32m      2\u001b[0m plt\u001b[38;5;241m.\u001b[39mplot(epochs, training_accuracy, marker\u001b[38;5;241m=\u001b[39m\u001b[38;5;124m'\u001b[39m\u001b[38;5;124mX\u001b[39m\u001b[38;5;124m'\u001b[39m, label\u001b[38;5;241m=\u001b[39m\u001b[38;5;124m'\u001b[39m\u001b[38;5;124mtraining_accuracy\u001b[39m\u001b[38;5;124m'\u001b[39m)\n\u001b[1;32m      3\u001b[0m plt\u001b[38;5;241m.\u001b[39mlegend()\n",
      "\u001b[0;31mNameError\u001b[0m: name 'epochs' is not defined"
     ]
    }
   ],
   "source": [
    "plt.plot(epochs, test_accuracy, marker='X', label='test_accuracy')\n",
    "plt.plot(epochs, training_accuracy, marker='X', label='training_accuracy')\n",
    "plt.legend()\n",
    "plt.show()"
   ]
  },
  {
   "cell_type": "code",
   "execution_count": 14,
   "id": "96045ca6-f33d-48a2-b4fb-c491ac54259a",
   "metadata": {},
   "outputs": [],
   "source": [
    "input_shape = (28, 28, 1)"
   ]
  },
  {
   "cell_type": "code",
   "execution_count": 15,
   "id": "9beed0d6-4a5d-401b-b9a1-7c91fc243135",
   "metadata": {},
   "outputs": [],
   "source": [
    "train_aug = ImageDataGenerator(\n",
    "    samplewise_center=False,\n",
    "    featurewise_std_normalization=False,\n",
    "    samplewise_std_normalization=False,\n",
    "    featurewise_center=False,\n",
    "    zca_whitening=False,\n",
    "    horizontal_flip=False,\n",
    "    vertical_flip=False,\n",
    "    fill_mode='nearest',\n",
    "    rotation_range=10,\n",
    "    zoom_range=0.1,\n",
    "    width_shift_range=0.1,\n",
    "    height_shift_range=0.1\n",
    ")\n",
    "\n",
    "train_aug.fit(x_train)\n",
    "train_gen = train_aug.flow(x_train, y_train, batch_size=64)"
   ]
  },
  {
   "cell_type": "code",
   "execution_count": 16,
   "id": "b671955e-0b83-46a5-ac3a-2a76ab331c16",
   "metadata": {},
   "outputs": [],
   "source": [
    "def fuck_my_life_model():\n",
    "    return tf.keras.models.Sequential([\n",
    "        Conv2D(32, kernel_size=(3, 3), activation='relu', padding='same', input_shape = input_shape),\n",
    "        Conv2D(32, kernel_size=(3, 3), activation='relu', padding='same'),\n",
    "        BatchNormalization(),\n",
    "        MaxPool2D(pool_size=(2, 2)),\n",
    "        Dropout(0.25),\n",
    "\n",
    "        Conv2D(64, kernel_size=(3, 3), activation='relu', padding='same'),\n",
    "        Conv2D(64, kernel_size=(3, 3), activation='relu', padding='same'),\n",
    "        BatchNormalization(),\n",
    "        MaxPool2D(pool_size=(2, 2)),\n",
    "        Dropout(0.25),\n",
    "        \n",
    "        Conv2D(128, kernel_size=(3, 3), activation='relu', padding='same'),\n",
    "        Conv2D(128, kernel_size=(3, 3), activation='relu', padding='same'),\n",
    "        BatchNormalization(),\n",
    "        MaxPool2D(pool_size=(2, 2)),\n",
    "        Dropout(0.25),\n",
    "        \n",
    "        \n",
    "        Flatten(),\n",
    "          \n",
    "        Dense(512, activation='relu'),\n",
    "        BatchNormalization(),\n",
    "        Dropout(0.5),\n",
    "        \n",
    "        Dense(256, activation='relu'),\n",
    "        BatchNormalization(),\n",
    "        Dropout(0.4),\n",
    "        \n",
    "        Dense(64, activation='relu'),\n",
    "        BatchNormalization(),\n",
    "        Dropout(0.3),\n",
    "        \n",
    "        Dense(num_classes, activation = \"softmax\")\n",
    "    ])"
   ]
  },
  {
   "cell_type": "code",
   "execution_count": 17,
   "id": "7351aa15-47a6-4b02-a458-ce176fd73562",
   "metadata": {},
   "outputs": [],
   "source": [
    "def callbacks(name): \n",
    "    return [ \n",
    "        EarlyStopping(monitor = 'loss', patience = 6), \n",
    "        ReduceLROnPlateau(monitor = 'loss', patience = 3), \n",
    "        ModelCheckpoint(f'./{name}.hdf5', save_best_only=True) # saving the best model\n",
    "    ]"
   ]
  },
  {
   "cell_type": "code",
   "execution_count": 18,
   "id": "761d3136-04b6-4706-be28-3d89e576c0e7",
   "metadata": {},
   "outputs": [],
   "source": [
    "def f1(y_true, y_pred):\n",
    "    def recall(y_true, y_pred):\n",
    "        true_positives = K.sum(K.round(K.clip(y_true * y_pred, 0, 1)))\n",
    "        possible_positives = K.sum(K.round(K.clip(y_true, 0, 1)))\n",
    "        recall = true_positives / (possible_positives + K.epsilon())\n",
    "        return recall\n",
    "\n",
    "    def precision(y_true, y_pred):\n",
    "        true_positives = K.sum(K.round(K.clip(y_true * y_pred, 0, 1)))\n",
    "        predicted_positives = K.sum(K.round(K.clip(y_pred, 0, 1)))\n",
    "        precision = true_positives / (predicted_positives + K.epsilon())\n",
    "        return precision\n",
    "    \n",
    "    precision = precision(y_true, y_pred)\n",
    "    recall = recall(y_true, y_pred)\n",
    "    return 2*((precision*recall)/(precision+recall+K.epsilon()))"
   ]
  },
  {
   "cell_type": "code",
   "execution_count": 19,
   "id": "791f48a0-675e-41b8-bf48-8de747e23d8c",
   "metadata": {},
   "outputs": [
    {
     "name": "stdout",
     "output_type": "stream",
     "text": [
      "Model: \"sequential\"\n",
      "_________________________________________________________________\n",
      " Layer (type)                Output Shape              Param #   \n",
      "=================================================================\n",
      " conv2d (Conv2D)             (None, 28, 28, 32)        320       \n",
      "                                                                 \n",
      " conv2d_1 (Conv2D)           (None, 28, 28, 32)        9248      \n",
      "                                                                 \n",
      " batch_normalization (Batch  (None, 28, 28, 32)        128       \n",
      " Normalization)                                                  \n",
      "                                                                 \n",
      " max_pooling2d (MaxPooling2  (None, 14, 14, 32)        0         \n",
      " D)                                                              \n",
      "                                                                 \n",
      " dropout (Dropout)           (None, 14, 14, 32)        0         \n",
      "                                                                 \n",
      " conv2d_2 (Conv2D)           (None, 14, 14, 64)        18496     \n",
      "                                                                 \n",
      " conv2d_3 (Conv2D)           (None, 14, 14, 64)        36928     \n",
      "                                                                 \n",
      " batch_normalization_1 (Bat  (None, 14, 14, 64)        256       \n",
      " chNormalization)                                                \n",
      "                                                                 \n",
      " max_pooling2d_1 (MaxPoolin  (None, 7, 7, 64)          0         \n",
      " g2D)                                                            \n",
      "                                                                 \n",
      " dropout_1 (Dropout)         (None, 7, 7, 64)          0         \n",
      "                                                                 \n",
      " conv2d_4 (Conv2D)           (None, 7, 7, 128)         73856     \n",
      "                                                                 \n",
      " conv2d_5 (Conv2D)           (None, 7, 7, 128)         147584    \n",
      "                                                                 \n",
      " batch_normalization_2 (Bat  (None, 7, 7, 128)         512       \n",
      " chNormalization)                                                \n",
      "                                                                 \n",
      " max_pooling2d_2 (MaxPoolin  (None, 3, 3, 128)         0         \n",
      " g2D)                                                            \n",
      "                                                                 \n",
      " dropout_2 (Dropout)         (None, 3, 3, 128)         0         \n",
      "                                                                 \n",
      " flatten (Flatten)           (None, 1152)              0         \n",
      "                                                                 \n",
      " dense (Dense)               (None, 512)               590336    \n",
      "                                                                 \n",
      " batch_normalization_3 (Bat  (None, 512)               2048      \n",
      " chNormalization)                                                \n",
      "                                                                 \n",
      " dropout_3 (Dropout)         (None, 512)               0         \n",
      "                                                                 \n",
      " dense_1 (Dense)             (None, 256)               131328    \n",
      "                                                                 \n",
      " batch_normalization_4 (Bat  (None, 256)               1024      \n",
      " chNormalization)                                                \n",
      "                                                                 \n",
      " dropout_4 (Dropout)         (None, 256)               0         \n",
      "                                                                 \n",
      " dense_2 (Dense)             (None, 64)                16448     \n",
      "                                                                 \n",
      " batch_normalization_5 (Bat  (None, 64)                256       \n",
      " chNormalization)                                                \n",
      "                                                                 \n",
      " dropout_5 (Dropout)         (None, 64)                0         \n",
      "                                                                 \n",
      " dense_3 (Dense)             (None, 10)                650       \n",
      "                                                                 \n",
      "=================================================================\n",
      "Total params: 1029418 (3.93 MB)\n",
      "Trainable params: 1027306 (3.92 MB)\n",
      "Non-trainable params: 2112 (8.25 KB)\n",
      "_________________________________________________________________\n"
     ]
    }
   ],
   "source": [
    "model = fuck_my_life_model()\n",
    "model.compile(loss='categorical_crossentropy', optimizer='Adam', metrics=[f1])\n",
    "model.summary()"
   ]
  },
  {
   "cell_type": "code",
   "execution_count": 57,
   "id": "4136fb12-1496-4ad9-affc-1bd995d94144",
   "metadata": {},
   "outputs": [
    {
     "name": "stdout",
     "output_type": "stream",
     "text": [
      "Epoch 1/100\n"
     ]
    },
    {
     "name": "stderr",
     "output_type": "stream",
     "text": [
      "2024-05-11 19:16:44.040901: E tensorflow/core/grappler/optimizers/meta_optimizer.cc:961] layout failed: INVALID_ARGUMENT: Size of values 0 does not match size of permutation 4 @ fanin shape insequential/dropout_6/dropout/SelectV2-2-TransposeNHWCToNCHW-LayoutOptimizer\n",
      "2024-05-11 19:16:44.218460: I external/local_xla/xla/stream_executor/cuda/cuda_dnn.cc:454] Loaded cuDNN version 8904\n",
      "2024-05-11 19:16:45.084140: I external/local_xla/xla/service/service.cc:168] XLA service 0x7f8080021110 initialized for platform CUDA (this does not guarantee that XLA will be used). Devices:\n",
      "2024-05-11 19:16:45.084159: I external/local_xla/xla/service/service.cc:176]   StreamExecutor device (0): NVIDIA GeForce RTX 3070 Ti, Compute Capability 8.6\n",
      "2024-05-11 19:16:45.095816: I tensorflow/compiler/mlir/tensorflow/utils/dump_mlir_util.cc:269] disabling MLIR crash reproducer, set env var `MLIR_CRASH_REPRODUCER_DIRECTORY` to enable.\n",
      "WARNING: All log messages before absl::InitializeLog() is called are written to STDERR\n",
      "I0000 00:00:1715435205.189112 3662752 device_compiler.h:186] Compiled cluster using XLA!  This line is logged at most once for the lifetime of the process.\n"
     ]
    },
    {
     "name": "stdout",
     "output_type": "stream",
     "text": [
      "937/937 [==============================] - 12s 8ms/step - loss: 0.4863 - f1: 0.8387 - val_loss: 0.0608 - val_f1: 0.9814 - lr: 0.0010\n",
      "Epoch 2/100\n",
      " 17/937 [..............................] - ETA: 5s - loss: 0.1329 - f1: 0.9670"
     ]
    },
    {
     "name": "stderr",
     "output_type": "stream",
     "text": [
      "/home/cse1053/.local/lib/python3.10/site-packages/keras/src/engine/training.py:3103: UserWarning: You are saving your model as an HDF5 file via `model.save()`. This file format is considered legacy. We recommend using instead the native Keras format, e.g. `model.save('my_model.keras')`.\n",
      "  saving_api.save_model(\n"
     ]
    },
    {
     "name": "stdout",
     "output_type": "stream",
     "text": [
      "937/937 [==============================] - 7s 7ms/step - loss: 0.1304 - f1: 0.9636 - val_loss: 0.0347 - val_f1: 0.9893 - lr: 0.0010\n",
      "Epoch 3/100\n",
      "937/937 [==============================] - 7s 7ms/step - loss: 0.0948 - f1: 0.9735 - val_loss: 0.0333 - val_f1: 0.9907 - lr: 0.0010\n",
      "Epoch 4/100\n",
      "937/937 [==============================] - 7s 7ms/step - loss: 0.0841 - f1: 0.9762 - val_loss: 0.0424 - val_f1: 0.9878 - lr: 0.0010\n",
      "Epoch 5/100\n",
      "937/937 [==============================] - 7s 8ms/step - loss: 0.0734 - f1: 0.9805 - val_loss: 0.0287 - val_f1: 0.9911 - lr: 0.0010\n",
      "Epoch 6/100\n",
      "937/937 [==============================] - 7s 8ms/step - loss: 0.0661 - f1: 0.9818 - val_loss: 0.0202 - val_f1: 0.9938 - lr: 0.0010\n",
      "Epoch 7/100\n",
      "937/937 [==============================] - 7s 7ms/step - loss: 0.0604 - f1: 0.9832 - val_loss: 0.0234 - val_f1: 0.9928 - lr: 0.0010\n",
      "Epoch 8/100\n",
      "937/937 [==============================] - 7s 7ms/step - loss: 0.0570 - f1: 0.9845 - val_loss: 0.0273 - val_f1: 0.9918 - lr: 0.0010\n",
      "Epoch 9/100\n",
      "937/937 [==============================] - 7s 7ms/step - loss: 0.0528 - f1: 0.9855 - val_loss: 0.0195 - val_f1: 0.9946 - lr: 0.0010\n",
      "Epoch 10/100\n",
      "937/937 [==============================] - 7s 7ms/step - loss: 0.0490 - f1: 0.9863 - val_loss: 0.0169 - val_f1: 0.9949 - lr: 0.0010\n",
      "Epoch 11/100\n",
      "937/937 [==============================] - 7s 7ms/step - loss: 0.0480 - f1: 0.9867 - val_loss: 0.0153 - val_f1: 0.9956 - lr: 0.0010\n",
      "Epoch 12/100\n",
      "937/937 [==============================] - 7s 7ms/step - loss: 0.0453 - f1: 0.9880 - val_loss: 0.0152 - val_f1: 0.9952 - lr: 0.0010\n",
      "Epoch 13/100\n",
      "937/937 [==============================] - 7s 7ms/step - loss: 0.0404 - f1: 0.9888 - val_loss: 0.0205 - val_f1: 0.9943 - lr: 0.0010\n",
      "Epoch 14/100\n",
      "937/937 [==============================] - 7s 7ms/step - loss: 0.0409 - f1: 0.9892 - val_loss: 0.0143 - val_f1: 0.9956 - lr: 0.0010\n",
      "Epoch 15/100\n",
      "937/937 [==============================] - 7s 7ms/step - loss: 0.0386 - f1: 0.9901 - val_loss: 0.0178 - val_f1: 0.9951 - lr: 0.0010\n",
      "Epoch 16/100\n",
      "937/937 [==============================] - 7s 7ms/step - loss: 0.0353 - f1: 0.9902 - val_loss: 0.0166 - val_f1: 0.9952 - lr: 0.0010\n",
      "Epoch 17/100\n",
      "937/937 [==============================] - 7s 7ms/step - loss: 0.0353 - f1: 0.9904 - val_loss: 0.0151 - val_f1: 0.9954 - lr: 0.0010\n",
      "Epoch 18/100\n",
      "937/937 [==============================] - 7s 7ms/step - loss: 0.0329 - f1: 0.9912 - val_loss: 0.0160 - val_f1: 0.9953 - lr: 0.0010\n",
      "Epoch 19/100\n",
      "937/937 [==============================] - 7s 8ms/step - loss: 0.0351 - f1: 0.9904 - val_loss: 0.0163 - val_f1: 0.9950 - lr: 0.0010\n",
      "Epoch 20/100\n",
      "937/937 [==============================] - 7s 7ms/step - loss: 0.0323 - f1: 0.9916 - val_loss: 0.0157 - val_f1: 0.9956 - lr: 0.0010\n",
      "Epoch 21/100\n",
      "937/937 [==============================] - 7s 7ms/step - loss: 0.0327 - f1: 0.9912 - val_loss: 0.0176 - val_f1: 0.9950 - lr: 0.0010\n",
      "Epoch 22/100\n",
      "937/937 [==============================] - 7s 7ms/step - loss: 0.0308 - f1: 0.9917 - val_loss: 0.0144 - val_f1: 0.9958 - lr: 0.0010\n",
      "Epoch 23/100\n",
      "937/937 [==============================] - 7s 8ms/step - loss: 0.0278 - f1: 0.9923 - val_loss: 0.0136 - val_f1: 0.9965 - lr: 0.0010\n",
      "Epoch 24/100\n",
      "937/937 [==============================] - 7s 7ms/step - loss: 0.0287 - f1: 0.9920 - val_loss: 0.0217 - val_f1: 0.9943 - lr: 0.0010\n",
      "Epoch 25/100\n",
      "937/937 [==============================] - 7s 7ms/step - loss: 0.0267 - f1: 0.9928 - val_loss: 0.0132 - val_f1: 0.9964 - lr: 0.0010\n",
      "Epoch 26/100\n",
      "937/937 [==============================] - 7s 8ms/step - loss: 0.0286 - f1: 0.9922 - val_loss: 0.0185 - val_f1: 0.9948 - lr: 0.0010\n",
      "Epoch 27/100\n",
      "937/937 [==============================] - 7s 7ms/step - loss: 0.0283 - f1: 0.9925 - val_loss: 0.0164 - val_f1: 0.9955 - lr: 0.0010\n",
      "Epoch 28/100\n",
      "937/937 [==============================] - 7s 7ms/step - loss: 0.0266 - f1: 0.9928 - val_loss: 0.0176 - val_f1: 0.9949 - lr: 0.0010\n",
      "Epoch 29/100\n",
      "937/937 [==============================] - 7s 8ms/step - loss: 0.0250 - f1: 0.9932 - val_loss: 0.0139 - val_f1: 0.9956 - lr: 0.0010\n",
      "Epoch 30/100\n",
      "937/937 [==============================] - 7s 7ms/step - loss: 0.0247 - f1: 0.9931 - val_loss: 0.0148 - val_f1: 0.9957 - lr: 0.0010\n",
      "Epoch 31/100\n",
      "937/937 [==============================] - 7s 8ms/step - loss: 0.0254 - f1: 0.9928 - val_loss: 0.0151 - val_f1: 0.9957 - lr: 0.0010\n",
      "Epoch 32/100\n",
      "937/937 [==============================] - 7s 7ms/step - loss: 0.0246 - f1: 0.9934 - val_loss: 0.0171 - val_f1: 0.9955 - lr: 0.0010\n",
      "Epoch 33/100\n",
      "937/937 [==============================] - 7s 8ms/step - loss: 0.0236 - f1: 0.9937 - val_loss: 0.0127 - val_f1: 0.9963 - lr: 0.0010\n",
      "Epoch 34/100\n",
      "937/937 [==============================] - 7s 7ms/step - loss: 0.0239 - f1: 0.9935 - val_loss: 0.0173 - val_f1: 0.9953 - lr: 0.0010\n",
      "Epoch 35/100\n",
      "937/937 [==============================] - 7s 7ms/step - loss: 0.0217 - f1: 0.9942 - val_loss: 0.0136 - val_f1: 0.9961 - lr: 0.0010\n",
      "Epoch 36/100\n",
      "937/937 [==============================] - 7s 8ms/step - loss: 0.0206 - f1: 0.9945 - val_loss: 0.0208 - val_f1: 0.9948 - lr: 0.0010\n",
      "Epoch 37/100\n",
      "937/937 [==============================] - 7s 7ms/step - loss: 0.0235 - f1: 0.9936 - val_loss: 0.0124 - val_f1: 0.9965 - lr: 0.0010\n",
      "Epoch 38/100\n",
      "937/937 [==============================] - 7s 7ms/step - loss: 0.0214 - f1: 0.9944 - val_loss: 0.0178 - val_f1: 0.9950 - lr: 0.0010\n",
      "Epoch 39/100\n",
      "937/937 [==============================] - 7s 7ms/step - loss: 0.0203 - f1: 0.9944 - val_loss: 0.0139 - val_f1: 0.9959 - lr: 0.0010\n",
      "Epoch 40/100\n",
      "937/937 [==============================] - 7s 7ms/step - loss: 0.0224 - f1: 0.9941 - val_loss: 0.0170 - val_f1: 0.9956 - lr: 0.0010\n",
      "Epoch 41/100\n",
      "937/937 [==============================] - 7s 7ms/step - loss: 0.0207 - f1: 0.9945 - val_loss: 0.0148 - val_f1: 0.9968 - lr: 0.0010\n",
      "Epoch 42/100\n",
      "937/937 [==============================] - 7s 7ms/step - loss: 0.0201 - f1: 0.9944 - val_loss: 0.0144 - val_f1: 0.9962 - lr: 0.0010\n",
      "Epoch 43/100\n",
      "937/937 [==============================] - 7s 7ms/step - loss: 0.0199 - f1: 0.9942 - val_loss: 0.0141 - val_f1: 0.9960 - lr: 0.0010\n",
      "Epoch 44/100\n",
      "937/937 [==============================] - 7s 7ms/step - loss: 0.0187 - f1: 0.9951 - val_loss: 0.0149 - val_f1: 0.9958 - lr: 0.0010\n",
      "Epoch 45/100\n",
      "937/937 [==============================] - 7s 7ms/step - loss: 0.0186 - f1: 0.9949 - val_loss: 0.0125 - val_f1: 0.9964 - lr: 0.0010\n",
      "Epoch 46/100\n",
      "937/937 [==============================] - 7s 7ms/step - loss: 0.0176 - f1: 0.9954 - val_loss: 0.0135 - val_f1: 0.9965 - lr: 0.0010\n",
      "Epoch 47/100\n",
      "937/937 [==============================] - 7s 7ms/step - loss: 0.0191 - f1: 0.9949 - val_loss: 0.0147 - val_f1: 0.9959 - lr: 0.0010\n",
      "Epoch 48/100\n",
      "937/937 [==============================] - 7s 7ms/step - loss: 0.0175 - f1: 0.9954 - val_loss: 0.0121 - val_f1: 0.9968 - lr: 0.0010\n",
      "Epoch 49/100\n",
      "937/937 [==============================] - 7s 7ms/step - loss: 0.0175 - f1: 0.9950 - val_loss: 0.0202 - val_f1: 0.9946 - lr: 0.0010\n",
      "Epoch 50/100\n",
      "937/937 [==============================] - 7s 8ms/step - loss: 0.0165 - f1: 0.9955 - val_loss: 0.0121 - val_f1: 0.9967 - lr: 1.0000e-04\n",
      "Epoch 51/100\n",
      "937/937 [==============================] - 7s 8ms/step - loss: 0.0144 - f1: 0.9961 - val_loss: 0.0121 - val_f1: 0.9970 - lr: 1.0000e-04\n",
      "Epoch 52/100\n",
      "937/937 [==============================] - 7s 7ms/step - loss: 0.0129 - f1: 0.9963 - val_loss: 0.0116 - val_f1: 0.9965 - lr: 1.0000e-04\n",
      "Epoch 53/100\n",
      "937/937 [==============================] - 7s 7ms/step - loss: 0.0120 - f1: 0.9966 - val_loss: 0.0112 - val_f1: 0.9970 - lr: 1.0000e-04\n",
      "Epoch 54/100\n",
      "937/937 [==============================] - 7s 7ms/step - loss: 0.0121 - f1: 0.9968 - val_loss: 0.0117 - val_f1: 0.9972 - lr: 1.0000e-04\n",
      "Epoch 55/100\n",
      "937/937 [==============================] - 7s 7ms/step - loss: 0.0121 - f1: 0.9965 - val_loss: 0.0118 - val_f1: 0.9972 - lr: 1.0000e-04\n",
      "Epoch 56/100\n",
      "937/937 [==============================] - 7s 7ms/step - loss: 0.0110 - f1: 0.9969 - val_loss: 0.0109 - val_f1: 0.9973 - lr: 1.0000e-04\n",
      "Epoch 57/100\n",
      "937/937 [==============================] - 7s 7ms/step - loss: 0.0095 - f1: 0.9974 - val_loss: 0.0116 - val_f1: 0.9970 - lr: 1.0000e-04\n",
      "Epoch 58/100\n"
     ]
    },
    {
     "name": "stdout",
     "output_type": "stream",
     "text": [
      "937/937 [==============================] - 7s 7ms/step - loss: 0.0122 - f1: 0.9967 - val_loss: 0.0112 - val_f1: 0.9974 - lr: 1.0000e-04\n",
      "Epoch 59/100\n",
      "937/937 [==============================] - 6s 7ms/step - loss: 0.0111 - f1: 0.9969 - val_loss: 0.0112 - val_f1: 0.9973 - lr: 1.0000e-04\n",
      "Epoch 60/100\n",
      "937/937 [==============================] - 7s 7ms/step - loss: 0.0110 - f1: 0.9970 - val_loss: 0.0106 - val_f1: 0.9975 - lr: 1.0000e-04\n",
      "Epoch 61/100\n",
      "937/937 [==============================] - 7s 7ms/step - loss: 0.0101 - f1: 0.9974 - val_loss: 0.0107 - val_f1: 0.9973 - lr: 1.0000e-05\n",
      "Epoch 62/100\n",
      "937/937 [==============================] - 7s 7ms/step - loss: 0.0095 - f1: 0.9973 - val_loss: 0.0105 - val_f1: 0.9976 - lr: 1.0000e-05\n",
      "Epoch 63/100\n",
      "937/937 [==============================] - 7s 7ms/step - loss: 0.0108 - f1: 0.9972 - val_loss: 0.0106 - val_f1: 0.9973 - lr: 1.0000e-05\n"
     ]
    }
   ],
   "source": [
    "learning_history = model.fit(\n",
    "    train_gen,\n",
    "    epochs=100,\n",
    "    steps_per_epoch=x_train.shape[0] // 64,\n",
    "    validation_data=(x_test, y_test),\n",
    "    callbacks=callbacks('best_cnn'),\n",
    ")"
   ]
  },
  {
   "cell_type": "code",
   "execution_count": 20,
   "id": "429c2eb7",
   "metadata": {},
   "outputs": [
    {
     "name": "stderr",
     "output_type": "stream",
     "text": [
      "WARNING:absl:At this time, the v2.11+ optimizer `tf.keras.optimizers.Adam` runs slowly on M1/M2 Macs, please use the legacy Keras optimizer instead, located at `tf.keras.optimizers.legacy.Adam`.\n"
     ]
    }
   ],
   "source": [
    "model = load_model('./best_cnn.hdf5', custom_objects={\"f1\": f1})"
   ]
  },
  {
   "cell_type": "code",
   "execution_count": 21,
   "id": "a445f528",
   "metadata": {},
   "outputs": [
    {
     "name": "stdout",
     "output_type": "stream",
     "text": [
      "Test Loss:  5.19%\n",
      "Test Accuracy:  99.67%\n",
      " Error: 0.33%\n"
     ]
    }
   ],
   "source": [
    "score = model.evaluate(x_test, y_test, verbose=0)\n",
    "print(\"Test Loss: \", str(round(score[0]*100, 2)) + str('%'))\n",
    "print(\"Test Accuracy: \", str(round(score[1]*100, 2)) + str('%'))\n",
    "\n",
    "print(\" Error: %.2f%%\" % (100-score[1]*100))"
   ]
  },
  {
   "cell_type": "code",
   "execution_count": 70,
   "id": "075d3824",
   "metadata": {},
   "outputs": [
    {
     "name": "stderr",
     "output_type": "stream",
     "text": [
      "/home/cse1053/.local/lib/python3.10/site-packages/keras/src/engine/training.py:3103: UserWarning: You are saving your model as an HDF5 file via `model.save()`. This file format is considered legacy. We recommend using instead the native Keras format, e.g. `model.save('my_model.keras')`.\n",
      "  saving_api.save_model(\n"
     ]
    }
   ],
   "source": [
    "model.save('mnist_cnn.h5')"
   ]
  },
  {
   "cell_type": "code",
   "execution_count": 22,
   "id": "508ee81c",
   "metadata": {},
   "outputs": [
    {
     "name": "stderr",
     "output_type": "stream",
     "text": [
      "WARNING:absl:At this time, the v2.11+ optimizer `tf.keras.optimizers.Adam` runs slowly on M1/M2 Macs, please use the legacy Keras optimizer instead, located at `tf.keras.optimizers.legacy.Adam`.\n"
     ]
    }
   ],
   "source": [
    "classifier = load_model('mnist_cnn.h5', custom_objects={\"f1\": f1})"
   ]
  },
  {
   "cell_type": "code",
   "execution_count": 23,
   "id": "1744a563",
   "metadata": {},
   "outputs": [
    {
     "ename": "KeyboardInterrupt",
     "evalue": "",
     "output_type": "error",
     "traceback": [
      "\u001b[0;31m---------------------------------------------------------------------------\u001b[0m",
      "\u001b[0;31mKeyboardInterrupt\u001b[0m                         Traceback (most recent call last)",
      "Cell \u001b[0;32mIn[23], line 23\u001b[0m\n\u001b[1;32m     21\u001b[0m \u001b[38;5;28;01mwhile\u001b[39;00m \u001b[38;5;28;01mTrue\u001b[39;00m:\n\u001b[1;32m     22\u001b[0m     cv2\u001b[38;5;241m.\u001b[39mimshow(\u001b[38;5;124m'\u001b[39m\u001b[38;5;124mwin\u001b[39m\u001b[38;5;124m'\u001b[39m,black_image)\n\u001b[0;32m---> 23\u001b[0m     \u001b[38;5;28;01mif\u001b[39;00m \u001b[43mcv2\u001b[49m\u001b[38;5;241;43m.\u001b[39;49m\u001b[43mwaitKey\u001b[49m\u001b[43m(\u001b[49m\u001b[38;5;241;43m1\u001b[39;49m\u001b[43m)\u001b[49m\u001b[38;5;241m==\u001b[39m\u001b[38;5;241m27\u001b[39m:\n\u001b[1;32m     24\u001b[0m         \u001b[38;5;28;01mbreak\u001b[39;00m\n\u001b[1;32m     25\u001b[0m     \u001b[38;5;28;01melif\u001b[39;00m cv2\u001b[38;5;241m.\u001b[39mwaitKey(\u001b[38;5;241m1\u001b[39m)\u001b[38;5;241m==\u001b[39m\u001b[38;5;241m13\u001b[39m:\n",
      "\u001b[0;31mKeyboardInterrupt\u001b[0m: "
     ]
    }
   ],
   "source": [
    "drawing=False\n",
    "cv2.namedWindow('win')\n",
    "black_image = np.zeros((256,256,3),np.uint8)\n",
    "ix,iy=-1,-1\n",
    "\n",
    "def draw_circles(event,x,y,flags,param):\n",
    "    global ix,iy,drawing\n",
    "    if event== cv2.EVENT_LBUTTONDOWN:\n",
    "        drawing=True\n",
    "        ix,iy=x,y\n",
    "        \n",
    "    elif event==cv2.EVENT_MOUSEMOVE:\n",
    "        if drawing==True:\n",
    "            cv2.circle(black_image,(x,y),5,(255,255,255),-1)\n",
    "            \n",
    "    elif event==cv2.EVENT_LBUTTONUP:\n",
    "        drawing = False\n",
    "        \n",
    "cv2.setMouseCallback('win',draw_circles)\n",
    "\n",
    "while True:\n",
    "    cv2.imshow('win',black_image)\n",
    "    if cv2.waitKey(1)==27:\n",
    "        break\n",
    "    elif cv2.waitKey(1)==13:\n",
    "        input_img = cv2.resize(black_image,(28,28))\n",
    "        input_img = cv2.cvtColor(input_img,cv2.COLOR_BGR2GRAY)\n",
    "        input_img = input_img.reshape(1,28,28,1)\n",
    "        res = classifier.predict_classes(input_img,1,verbose=0)[0]\n",
    "        cv2.putText(black_image,text=str(res),org=(205,30),fontFace=cv2.FONT_HERSHEY_SIMPLEX,fontScale=1,color=(255,255,255),thickness=2)\n",
    "    elif cv2.waitKey(1)==ord('c'):\n",
    "        black_image = np.zeros((256,256,3),np.uint8)\n",
    "        ix,iy=-1,-1\n",
    "cv2.destroyAllWindows()"
   ]
  },
  {
   "cell_type": "code",
   "execution_count": null,
   "id": "86497dfa",
   "metadata": {},
   "outputs": [],
   "source": []
  }
 ],
 "metadata": {
  "kernelspec": {
   "display_name": "Python 3.11 (tensorflow)",
   "language": "python",
   "name": "tensorflow"
  },
  "language_info": {
   "codemirror_mode": {
    "name": "ipython",
    "version": 3
   },
   "file_extension": ".py",
   "mimetype": "text/x-python",
   "name": "python",
   "nbconvert_exporter": "python",
   "pygments_lexer": "ipython3",
   "version": "3.10.13"
  }
 },
 "nbformat": 4,
 "nbformat_minor": 5
}
